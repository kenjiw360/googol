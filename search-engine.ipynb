{
 "cells": [
  {
   "cell_type": "code",
   "execution_count": 34,
   "metadata": {},
   "outputs": [],
   "source": [
    "DATABASE='googol'\n",
    "HOST='127.0.0.1'\n",
    "USERNAME='kenjiwang'\n",
    "PASSWORD='5517007'\n",
    "PORT='5432'"
   ]
  },
  {
   "cell_type": "code",
   "execution_count": 35,
   "metadata": {},
   "outputs": [],
   "source": [
    "import torch\n",
    "import torch.nn.functional as F\n",
    "from sentence_transformers import SentenceTransformer\n",
    "from transformers.dynamic_module_utils import get_imports\n",
    "from unittest.mock import patch\n",
    "from numpy.linalg import norm\n",
    "import numpy as np\n",
    "import psycopg2"
   ]
  },
  {
   "cell_type": "code",
   "execution_count": 36,
   "metadata": {},
   "outputs": [],
   "source": [
    "conn = psycopg2.connect(database=DATABASE,\n",
    "\thost=HOST,\n",
    "\tuser=USERNAME,\n",
    "\tpassword=PASSWORD,\n",
    "\tport=PORT\n",
    ")\n",
    "\n",
    "cursor = conn.cursor()"
   ]
  },
  {
   "cell_type": "code",
   "execution_count": 40,
   "metadata": {},
   "outputs": [],
   "source": [
    "model = SentenceTransformer('dunzhang/stella_en_1.5B_v5', trust_remote_code=True)"
   ]
  },
  {
   "cell_type": "code",
   "execution_count": 49,
   "metadata": {},
   "outputs": [],
   "source": [
    "def search_googol(query):\n",
    "\tquery_formatted = query.replace('\\'', '\\'\\'')\n",
    "\tquery_emb = model.encode([query], normalize_embeddings=True)[0].tolist()\n",
    "\n",
    "\tpg_query = f\"SELECT url, title, description FROM websites ORDER BY description_emb <=> '{query_emb}', title_emb <=> '{query_emb}' LIMIT 10;\"\n",
    "\n",
    "\tcursor.execute(pg_query)\n",
    "\tmany_rows = cursor.fetchmany(10)\n",
    "\n",
    "\tfor row in many_rows:\n",
    "\t\tprint(row)"
   ]
  },
  {
   "cell_type": "code",
   "execution_count": 50,
   "metadata": {},
   "outputs": [
    {
     "name": "stdout",
     "output_type": "stream",
     "text": [
      "('apple.com', 'Apple', 'Discover the innovative world of Apple and shop everything iPhone, iPad, Apple Watch, Mac, and Apple TV, plus explore accessories, entertainment, and expert device support.')\n",
      "('apps.apple.com', 'App Store - Apple', 'The App Store gives people around the world a safe and trusted place to discover apps that meet our high standards for privacy, security, and content.')\n",
      "('open.spotify.com', 'Spotify - Web Player: Music for everyone', 'Spotify is a digital music service that gives you access to millions of songs.')\n",
      "('wordpress.org', 'Blog Tool, Publishing Platform, and CMS – WordPress.org', 'Open source software which you can use to easily create a beautiful website, blog, or app.')\n",
      "('maps.google.com', '  Google Maps  ', 'Find local businesses, view maps and get driving directions in Google Maps.')\n",
      "('pinterest.com', 'Pinterest', 'Discover recipes, home ideas, style inspiration and other ideas to try.')\n",
      "('theguardian.com', 'Latest news, sport and opinion from the Guardian', \"Latest US news, world news, sports, business, opinion, analysis and reviews from the Guardian, the world's leading liberal voice\")\n",
      "('google.com', 'Google', \"Search the world's information, including webpages, images, videos and more. Google has many special features to help you find exactly what you're looking for.\")\n",
      "('support.apple.com', 'Official Apple Support', 'Learn more about popular features and topics, and find resources that will help you with all of your Apple products.')\n",
      "('drive.google.com', 'Google Drive: Sign-in', 'Access Google Drive with a Google account (for personal use) or Google Workspace account (for business use).')\n"
     ]
    }
   ],
   "source": [
    "search_googol(\"British news\")"
   ]
  },
  {
   "cell_type": "code",
   "execution_count": null,
   "metadata": {},
   "outputs": [],
   "source": []
  }
 ],
 "metadata": {
  "kernelspec": {
   "display_name": "search-engine",
   "language": "python",
   "name": "python3"
  },
  "language_info": {
   "codemirror_mode": {
    "name": "ipython",
    "version": 3
   },
   "file_extension": ".py",
   "mimetype": "text/x-python",
   "name": "python",
   "nbconvert_exporter": "python",
   "pygments_lexer": "ipython3",
   "version": "3.12.4"
  }
 },
 "nbformat": 4,
 "nbformat_minor": 2
}
