{
 "cells": [
  {
   "cell_type": "code",
   "execution_count": 1,
   "metadata": {},
   "outputs": [],
   "source": [
    "DATABASE='googol'\n",
    "HOST='127.0.0.1'\n",
    "USERNAME='username'\n",
    "PASSWORD='password'\n",
    "PORT='5432'"
   ]
  },
  {
   "cell_type": "code",
   "execution_count": 2,
   "metadata": {},
   "outputs": [
    {
     "name": "stderr",
     "output_type": "stream",
     "text": [
      "/Users/kenjiwang/anaconda3/envs/search-engine/lib/python3.12/site-packages/sentence_transformers/cross_encoder/CrossEncoder.py:11: TqdmWarning: IProgress not found. Please update jupyter and ipywidgets. See https://ipywidgets.readthedocs.io/en/stable/user_install.html\n",
      "  from tqdm.autonotebook import tqdm, trange\n"
     ]
    }
   ],
   "source": [
    "import torch\n",
    "import torch.nn.functional as F\n",
    "from sentence_transformers import SentenceTransformer\n",
    "from transformers.dynamic_module_utils import get_imports\n",
    "from unittest.mock import patch\n",
    "from numpy.linalg import norm\n",
    "import numpy as np\n",
    "import psycopg2"
   ]
  },
  {
   "cell_type": "code",
   "execution_count": 3,
   "metadata": {},
   "outputs": [],
   "source": [
    "conn = psycopg2.connect(database=DATABASE,\n",
    "\thost=HOST,\n",
    "\tuser=USERNAME,\n",
    "\tpassword=PASSWORD,\n",
    "\tport=PORT\n",
    ")\n",
    "\n",
    "cursor = conn.cursor()"
   ]
  },
  {
   "cell_type": "code",
   "execution_count": 4,
   "metadata": {},
   "outputs": [],
   "source": [
    "model = SentenceTransformer('dunzhang/stella_en_1.5B_v5', trust_remote_code=True)"
   ]
  },
  {
   "cell_type": "code",
   "execution_count": 5,
   "metadata": {},
   "outputs": [],
   "source": [
    "def search_googol(query):\n",
    "\tquery_formatted = query.replace('\\'', '\\'\\'')\n",
    "\tquery_emb = model.encode([query], normalize_embeddings=True)[0].tolist()\n",
    "\n",
    "\tpg_query = f\"SELECT url, title, description FROM websites ORDER BY description_emb <=> '{query_emb}', title_emb <=> '{query_emb}' LIMIT 10;\"\n",
    "\n",
    "\tcursor.execute(pg_query)\n",
    "\tmany_rows = cursor.fetchmany(10)\n",
    "\n",
    "\tfor row in many_rows:\n",
    "\t\tprint(row)"
   ]
  },
  {
   "cell_type": "code",
   "execution_count": 6,
   "metadata": {},
   "outputs": [
    {
     "name": "stdout",
     "output_type": "stream",
     "text": [
      "('google.com', 'Google', \"Search the world's information, including webpages, images, videos and more. Google has many special features to help you find exactly what you're looking for.\")\n",
      "('twitter.com', 'x.com', '')\n",
      "('googletagmanager.com', 'Error 404 (Not Found)!!1', '')\n",
      "('facebook.com', 'Facebook - log in or sign up', 'Log into Facebook to start sharing and connecting with your friends, family, and people you know.')\n",
      "('youtube.com', 'YouTube', 'Enjoy the videos and music you love, upload original content, and share it all with friends, family, and the world on YouTube.')\n"
     ]
    }
   ],
   "source": [
    "search_googol(\"search engine\")"
   ]
  },
  {
   "cell_type": "code",
   "execution_count": null,
   "metadata": {},
   "outputs": [],
   "source": []
  }
 ],
 "metadata": {
  "kernelspec": {
   "display_name": "search-engine",
   "language": "python",
   "name": "python3"
  },
  "language_info": {
   "codemirror_mode": {
    "name": "ipython",
    "version": 3
   },
   "file_extension": ".py",
   "mimetype": "text/x-python",
   "name": "python",
   "nbconvert_exporter": "python",
   "pygments_lexer": "ipython3",
   "version": "3.12.4"
  }
 },
 "nbformat": 4,
 "nbformat_minor": 2
}
