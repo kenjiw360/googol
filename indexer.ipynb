{
 "cells": [
  {
   "cell_type": "code",
   "execution_count": 1,
   "metadata": {},
   "outputs": [],
   "source": [
    "DATABASE='googol'\n",
    "HOST='127.0.0.1'\n",
    "USERNAME='kenjiwang'\n",
    "PASSWORD='5517007'\n",
    "PORT='5432'"
   ]
  },
  {
   "cell_type": "code",
   "execution_count": 2,
   "metadata": {},
   "outputs": [
    {
     "name": "stderr",
     "output_type": "stream",
     "text": [
      "/Users/kenjiwang/anaconda3/envs/search-engine/lib/python3.12/site-packages/sentence_transformers/cross_encoder/CrossEncoder.py:11: TqdmWarning: IProgress not found. Please update jupyter and ipywidgets. See https://ipywidgets.readthedocs.io/en/stable/user_install.html\n",
      "  from tqdm.autonotebook import tqdm, trange\n"
     ]
    }
   ],
   "source": [
    "import csv\n",
    "import requests\n",
    "import lxml.html\n",
    "\n",
    "import torch\n",
    "import torch.nn.functional as F\n",
    "from sentence_transformers import SentenceTransformer\n",
    "from transformers.dynamic_module_utils import get_imports\n",
    "from unittest.mock import patch\n",
    "from numpy.linalg import norm\n",
    "import numpy as np\n",
    "import psycopg2"
   ]
  },
  {
   "cell_type": "code",
   "execution_count": 3,
   "metadata": {},
   "outputs": [],
   "source": [
    "conn = psycopg2.connect(database=DATABASE,\n",
    "\thost=HOST,\n",
    "\tuser=USERNAME,\n",
    "\tpassword=PASSWORD,\n",
    "\tport=PORT\n",
    ")\n",
    "\n",
    "cursor = conn.cursor()\n",
    "\n",
    "cursor.execute(\"CREATE TABLE IF NOT EXISTS websites (id bigserial PRIMARY KEY NOT NULL, url text NOT NULL, title text NOT NULL, description text NOT NULL, title_emb vector(1024), description_emb vector(1024))\")\n",
    "\n",
    "conn.commit()"
   ]
  },
  {
   "cell_type": "code",
   "execution_count": 4,
   "metadata": {},
   "outputs": [],
   "source": [
    "model = SentenceTransformer('dunzhang/stella_en_1.5B_v5', trust_remote_code=True)"
   ]
  },
  {
   "cell_type": "code",
   "execution_count": 5,
   "metadata": {},
   "outputs": [],
   "source": [
    "def index_page(i, domain):\n",
    "\tif('api' in domain): return\n",
    "\t\n",
    "\tprint(f\"{i}: Indexing {domain}\")\n",
    "\twebsite = requests.get('https://'+domain)\n",
    "\tif 'text/html' not in website.headers['content-type']: return\n",
    "\thtml = lxml.html.fromstring(website.text)\n",
    "\n",
    "\ttitle = html.find('.//title').text\n",
    "\ttitle_formatted = title.replace('\\'', '\\'\\'')\n",
    "\ttitle_emb = model.encode([title], normalize_embeddings=True)[0].tolist()\n",
    "\n",
    "\ttry:\n",
    "\t\ttry:\n",
    "\t\t\tdescription = html.find('.//meta[@name=\"description\"]').get(\"content\")\n",
    "\t\texcept:\n",
    "\t\t\tdescription = html.find('.//meta[@property=\"og:description\"]').get(\"content\")\n",
    "\texcept:\n",
    "\t\tdescription = \"\"\n",
    "\n",
    "\tdescription_emb = model.encode([description], normalize_embeddings=True)[0].tolist()\n",
    "\tdescription_formatted = description.replace('\\'', '\\'\\'')\n",
    "\n",
    "\tquery = f\"INSERT INTO websites(title, url, description, title_emb, description_emb) VALUES ('{title_formatted}', '{domain}', '{description_formatted}', '{title_emb}', '{description_emb}')\"\n",
    "\tcursor.execute(query)\n",
    "\tconn.commit()\n",
    "\t"
   ]
  },
  {
   "cell_type": "code",
   "execution_count": 6,
   "metadata": {},
   "outputs": [
    {
     "name": "stdout",
     "output_type": "stream",
     "text": [
      "0: Indexing facebook.com\n"
     ]
    }
   ],
   "source": [
    "with open('domains.csv', mode ='r') as file:\n",
    "\tcsvFile = csv.reader(file)\n",
    "\t\n",
    "\tnext(csvFile)\n",
    "\tfor i in range(0,200): index_page(i, next(csvFile)[1])\n"
   ]
  },
  {
   "cell_type": "code",
   "execution_count": null,
   "metadata": {},
   "outputs": [],
   "source": []
  }
 ],
 "metadata": {
  "kernelspec": {
   "display_name": "search-engine",
   "language": "python",
   "name": "python3"
  },
  "language_info": {
   "codemirror_mode": {
    "name": "ipython",
    "version": 3
   },
   "file_extension": ".py",
   "mimetype": "text/x-python",
   "name": "python",
   "nbconvert_exporter": "python",
   "pygments_lexer": "ipython3",
   "version": "3.12.4"
  }
 },
 "nbformat": 4,
 "nbformat_minor": 2
}
