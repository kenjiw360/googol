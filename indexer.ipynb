{
 "cells": [
  {
   "cell_type": "code",
   "execution_count": 9,
   "metadata": {},
   "outputs": [],
   "source": [
    "DATABASE='googol'\n",
    "HOST='127.0.0.1'\n",
    "USERNAME='username'\n",
    "PASSWORD='password'\n",
    "PORT='5432'"
   ]
  },
  {
   "cell_type": "code",
   "execution_count": 10,
   "metadata": {},
   "outputs": [],
   "source": [
    "import csv\n",
    "import requests\n",
    "import lxml.html\n",
    "\n",
    "import torch\n",
    "import torch.nn.functional as F\n",
    "from sentence_transformers import SentenceTransformer\n",
    "from transformers.dynamic_module_utils import get_imports\n",
    "from unittest.mock import patch\n",
    "from numpy.linalg import norm\n",
    "import numpy as np\n",
    "import psycopg2"
   ]
  },
  {
   "cell_type": "code",
   "execution_count": 11,
   "metadata": {},
   "outputs": [],
   "source": [
    "conn = psycopg2.connect(database=DATABASE,\n",
    "\thost=HOST,\n",
    "\tuser=USERNAME,\n",
    "\tpassword=PASSWORD,\n",
    "\tport=PORT\n",
    ")\n",
    "\n",
    "cursor = conn.cursor()\n",
    "\n",
    "cursor.execute(\"CREATE TABLE IF NOT EXISTS websites (id bigserial PRIMARY KEY NOT NULL, url text NOT NULL, title text NOT NULL, description text NOT NULL, title_emb vector(1024), description_emb vector(1024))\")\n",
    "\n",
    "conn.commit()"
   ]
  },
  {
   "cell_type": "code",
   "execution_count": 12,
   "metadata": {},
   "outputs": [],
   "source": [
    "model = SentenceTransformer('dunzhang/stella_en_1.5B_v5', trust_remote_code=True)"
   ]
  },
  {
   "cell_type": "code",
   "execution_count": 13,
   "metadata": {},
   "outputs": [],
   "source": [
    "def index_page(i, domain):\n",
    "\tif('api' in domain): return\n",
    "\t\n",
    "\tprint(f\"{i}: Indexing {domain}\")\n",
    "\twebsite = requests.get('https://'+domain)\n",
    "\tif 'text/html' not in website.headers['content-type']: return\n",
    "\thtml = lxml.html.fromstring(website.text)\n",
    "\n",
    "\ttitle = html.find('.//title').text\n",
    "\ttitle_formatted = title.replace('\\'', '\\'\\'')\n",
    "\ttitle_emb = model.encode([title], normalize_embeddings=True)[0].tolist()\n",
    "\n",
    "\ttry:\n",
    "\t\ttry:\n",
    "\t\t\tdescription = html.find('.//meta[@name=\"description\"]').get(\"content\")\n",
    "\t\texcept:\n",
    "\t\t\tdescription = html.find('.//meta[@property=\"og:description\"]').get(\"content\")\n",
    "\texcept:\n",
    "\t\tdescription = \"\"\n",
    "\n",
    "\tdescription_emb = model.encode([description], normalize_embeddings=True)[0].tolist()\n",
    "\tdescription_formatted = description.replace('\\'', '\\'\\'')\n",
    "\n",
    "\tprint(\"finished embedding\")\n",
    "\n",
    "\tquery = f\"INSERT INTO websites(title, url, description, title_emb, description_emb) VALUES ('{title_formatted}', '{domain}', '{description_formatted}', '{title_emb}', '{description_emb}')\"\n",
    "\tcursor.execute(query)\n",
    "\tconn.commit()\n",
    "\t"
   ]
  },
  {
   "cell_type": "code",
   "execution_count": 14,
   "metadata": {},
   "outputs": [
    {
     "name": "stdout",
     "output_type": "stream",
     "text": [
      "0: Indexing facebook.com\n",
      "finished embedding\n",
      "2: Indexing google.com\n",
      "finished embedding\n",
      "3: Indexing youtube.com\n",
      "finished embedding\n",
      "4: Indexing twitter.com\n",
      "finished embedding\n",
      "5: Indexing googletagmanager.com\n",
      "finished embedding\n",
      "6: Indexing instagram.com\n",
      "finished embedding\n",
      "7: Indexing linkedin.com\n",
      "finished embedding\n",
      "8: Indexing fonts.gstatic.com\n",
      "finished embedding\n",
      "9: Indexing gmpg.org\n"
     ]
    }
   ],
   "source": [
    "with open('domains.csv', mode ='r') as file:\n",
    "\tcsvFile = csv.reader(file)\n",
    "\t\n",
    "\tnext(csvFile)\n",
    "\tfor i in range(0,200): index_page(i, next(csvFile)[1])\n"
   ]
  }
 ],
 "metadata": {
  "kernelspec": {
   "display_name": "search-engine",
   "language": "python",
   "name": "python3"
  },
  "language_info": {
   "codemirror_mode": {
    "name": "ipython",
    "version": 3
   },
   "file_extension": ".py",
   "mimetype": "text/x-python",
   "name": "python",
   "nbconvert_exporter": "python",
   "pygments_lexer": "ipython3",
   "version": "3.12.4"
  }
 },
 "nbformat": 4,
 "nbformat_minor": 2
}
