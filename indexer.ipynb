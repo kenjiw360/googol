{
 "cells": [
  {
   "cell_type": "code",
   "execution_count": 1,
   "metadata": {},
   "outputs": [],
   "source": [
    "DATABASE='googol'\n",
    "HOST='127.0.0.1'\n",
    "USERNAME='kenjiwang'\n",
    "PASSWORD='5517007'\n",
    "PORT='5432'"
   ]
  },
  {
   "cell_type": "code",
   "execution_count": 2,
   "metadata": {},
   "outputs": [
    {
     "name": "stderr",
     "output_type": "stream",
     "text": [
      "/Users/kenjiwang/anaconda3/envs/search-engine/lib/python3.12/site-packages/bitsandbytes/cextension.py:34: UserWarning: The installed version of bitsandbytes was compiled without GPU support. 8-bit optimizers, 8-bit multiplication, and GPU quantization are unavailable.\n",
      "  warn(\"The installed version of bitsandbytes was compiled without GPU support. \"\n"
     ]
    },
    {
     "name": "stdout",
     "output_type": "stream",
     "text": [
      "'NoneType' object has no attribute 'cadam32bit_grad_fp32'\n"
     ]
    },
    {
     "name": "stderr",
     "output_type": "stream",
     "text": [
      "/Users/kenjiwang/anaconda3/envs/search-engine/lib/python3.12/site-packages/tqdm/auto.py:21: TqdmWarning: IProgress not found. Please update jupyter and ipywidgets. See https://ipywidgets.readthedocs.io/en/stable/user_install.html\n",
      "  from .autonotebook import tqdm as notebook_tqdm\n"
     ]
    }
   ],
   "source": [
    "import csv\n",
    "import requests\n",
    "import lxml.html\n",
    "\n",
    "from angle_emb import AnglE, Prompts\n",
    "from numpy.linalg import norm\n",
    "import numpy as np\n",
    "import psycopg2"
   ]
  },
  {
   "cell_type": "code",
   "execution_count": 3,
   "metadata": {},
   "outputs": [],
   "source": [
    "conn = psycopg2.connect(database=DATABASE,\n",
    "\thost=HOST,\n",
    "\tuser=USERNAME,\n",
    "\tpassword=PASSWORD,\n",
    "\tport=PORT\n",
    ")\n",
    "\n",
    "cursor = conn.cursor()\n",
    "\n",
    "cursor.execute(\"CREATE TABLE IF NOT EXISTS websites (id bigserial PRIMARY KEY NOT NULL, url text NOT NULL, title text NOT NULL, description text NOT NULL, title_emb vector(1024), description_emb vector(1024))\")\n",
    "\n",
    "conn.commit()"
   ]
  },
  {
   "cell_type": "code",
   "execution_count": 4,
   "metadata": {},
   "outputs": [],
   "source": [
    "def cosine_similarity(a,b):\n",
    "\treturn np.sum(a*b, axis=1)/(norm(a, axis=1)*norm(b, axis=1))"
   ]
  },
  {
   "cell_type": "code",
   "execution_count": 5,
   "metadata": {},
   "outputs": [],
   "source": [
    "angle = AnglE.from_pretrained('WhereIsAI/UAE-Large-V1', pooling_strategy='cls').cuda()\n",
    "# angle.set_prompt(prompt=Prompts.C)"
   ]
  },
  {
   "cell_type": "code",
   "execution_count": 6,
   "metadata": {},
   "outputs": [],
   "source": [
    "def index_page(i, domain):\n",
    "\tif('api' in domain): return\n",
    "\t\n",
    "\tprint(f\"{i}: Indexing {domain}\")\n",
    "\twebsite = requests.get('https://'+domain)\n",
    "\tif 'text/html' not in website.headers['content-type']: return\n",
    "\thtml = lxml.html.fromstring(website.text)\n",
    "\n",
    "\ttitle = html.find('.//title').text\n",
    "\ttitle_formatted = title.replace('\\'', '\\'\\'')\n",
    "\ttitle_emb = angle.encode(title, to_numpy=True)[0].tolist()\n",
    "\n",
    "\ttry:\n",
    "\t\ttry:\n",
    "\t\t\tdescription = html.find('.//meta[@name=\"description\"]').get(\"content\")\n",
    "\t\texcept:\n",
    "\t\t\tdescription = html.find('.//meta[@property=\"og:description\"]').get(\"content\")\n",
    "\texcept:\n",
    "\t\tdescription = \"\"\n",
    "\n",
    "\tdescription_emb = angle.encode(description, to_numpy=True)[0].tolist()\n",
    "\tdescription_formatted = description.replace('\\'', '\\'\\'')\n",
    "\n",
    "\tquery = f\"INSERT INTO websites(title, url, description, title_emb, description_emb) VALUES ('{title_formatted}', '{domain}', '{description_formatted}', '{title_emb}', '{description_emb}')\"\n",
    "\tcursor.execute(query)\n",
    "\tconn.commit()\n",
    "\t"
   ]
  },
  {
   "cell_type": "code",
   "execution_count": 7,
   "metadata": {},
   "outputs": [
    {
     "name": "stdout",
     "output_type": "stream",
     "text": [
      "0: Indexing facebook.com\n",
      "2: Indexing google.com\n",
      "3: Indexing youtube.com\n",
      "4: Indexing twitter.com\n",
      "5: Indexing googletagmanager.com\n",
      "6: Indexing instagram.com\n",
      "7: Indexing linkedin.com\n",
      "8: Indexing fonts.gstatic.com\n",
      "9: Indexing gmpg.org\n",
      "10: Indexing maps.google.com\n",
      "12: Indexing youtu.be\n",
      "13: Indexing cdnjs.cloudflare.com\n",
      "14: Indexing play.google.com\n",
      "15: Indexing github.com\n",
      "16: Indexing support.google.com\n",
      "17: Indexing plus.google.com\n",
      "18: Indexing en.wikipedia.org\n",
      "19: Indexing drive.google.com\n",
      "20: Indexing docs.google.com\n",
      "21: Indexing wordpress.org\n",
      "22: Indexing pinterest.com\n",
      "23: Indexing goo.gl\n",
      "24: Indexing developers.google.com\n",
      "25: Indexing bit.ly\n",
      "26: Indexing policies.google.com\n",
      "27: Indexing amazon.com\n",
      "28: Indexing cloudflare.com\n",
      "29: Indexing google-analytics.com\n",
      "30: Indexing vimeo.com\n",
      "31: Indexing vk.com\n",
      "32: Indexing itunes.apple.com\n",
      "33: Indexing secure.gravatar.com\n",
      "34: Indexing creativecommons.org\n",
      "35: Indexing tiktok.com\n",
      "36: Indexing medium.com\n",
      "37: Indexing apps.apple.com\n",
      "38: Indexing open.spotify.com\n",
      "39: Indexing lh3.googleusercontent.com\n",
      "41: Indexing gstatic.com\n",
      "42: Indexing player.vimeo.com\n",
      "43: Indexing sites.google.com\n",
      "44: Indexing ec.europa.eu\n",
      "45: Indexing cdn.jsdelivr.net\n",
      "46: Indexing accounts.google.com\n",
      "47: Indexing t.me\n",
      "48: Indexing soundcloud.com\n",
      "49: Indexing paypal.com\n",
      "50: Indexing flickr.com\n",
      "51: Indexing microsoft.com\n",
      "52: Indexing chrome.google.com\n",
      "53: Indexing forms.gle\n",
      "54: Indexing code.jquery.com\n",
      "55: Indexing support.apple.com\n",
      "56: Indexing tinyurl.com\n",
      "57: Indexing bbc.co.uk\n",
      "58: Indexing reddit.com\n",
      "59: Indexing nytimes.com\n",
      "60: Indexing archive.org\n",
      "61: Indexing imdb.com\n",
      "62: Indexing w3.org\n",
      "63: Indexing who.int\n",
      "64: Indexing theguardian.com\n",
      "65: Indexing podcasts.apple.com\n",
      "66: Indexing apple.com\n",
      "67: Indexing support.cloudflare.com\n",
      "68: Indexing mail.google.com\n",
      "69: Indexing arxiv.org\n"
     ]
    },
    {
     "ename": "ValueError",
     "evalue": "Unicode strings with encoding declaration are not supported. Please use bytes input or XML fragments without declaration.",
     "output_type": "error",
     "traceback": [
      "\u001b[0;31m---------------------------------------------------------------------------\u001b[0m",
      "\u001b[0;31mValueError\u001b[0m                                Traceback (most recent call last)",
      "Cell \u001b[0;32mIn[7], line 5\u001b[0m\n\u001b[1;32m      2\u001b[0m csvFile \u001b[38;5;241m=\u001b[39m csv\u001b[38;5;241m.\u001b[39mreader(file)\n\u001b[1;32m      4\u001b[0m \u001b[38;5;28mnext\u001b[39m(csvFile)\n\u001b[0;32m----> 5\u001b[0m \u001b[38;5;28;01mfor\u001b[39;00m i \u001b[38;5;129;01min\u001b[39;00m \u001b[38;5;28mrange\u001b[39m(\u001b[38;5;241m0\u001b[39m,\u001b[38;5;241m200\u001b[39m): index_page(i, \u001b[38;5;28mnext\u001b[39m(csvFile)[\u001b[38;5;241m1\u001b[39m])\n",
      "Cell \u001b[0;32mIn[6], line 7\u001b[0m, in \u001b[0;36mindex_page\u001b[0;34m(i, domain)\u001b[0m\n\u001b[1;32m      5\u001b[0m website \u001b[38;5;241m=\u001b[39m requests\u001b[38;5;241m.\u001b[39mget(\u001b[38;5;124m'\u001b[39m\u001b[38;5;124mhttps://\u001b[39m\u001b[38;5;124m'\u001b[39m\u001b[38;5;241m+\u001b[39mdomain)\n\u001b[1;32m      6\u001b[0m \u001b[38;5;28;01mif\u001b[39;00m \u001b[38;5;124m'\u001b[39m\u001b[38;5;124mtext/html\u001b[39m\u001b[38;5;124m'\u001b[39m \u001b[38;5;129;01mnot\u001b[39;00m \u001b[38;5;129;01min\u001b[39;00m website\u001b[38;5;241m.\u001b[39mheaders[\u001b[38;5;124m'\u001b[39m\u001b[38;5;124mcontent-type\u001b[39m\u001b[38;5;124m'\u001b[39m]: \u001b[38;5;28;01mreturn\u001b[39;00m\n\u001b[0;32m----> 7\u001b[0m html \u001b[38;5;241m=\u001b[39m \u001b[43mlxml\u001b[49m\u001b[38;5;241;43m.\u001b[39;49m\u001b[43mhtml\u001b[49m\u001b[38;5;241;43m.\u001b[39;49m\u001b[43mfromstring\u001b[49m\u001b[43m(\u001b[49m\u001b[43mwebsite\u001b[49m\u001b[38;5;241;43m.\u001b[39;49m\u001b[43mtext\u001b[49m\u001b[43m)\u001b[49m\n\u001b[1;32m      9\u001b[0m title \u001b[38;5;241m=\u001b[39m html\u001b[38;5;241m.\u001b[39mfind(\u001b[38;5;124m'\u001b[39m\u001b[38;5;124m.//title\u001b[39m\u001b[38;5;124m'\u001b[39m)\u001b[38;5;241m.\u001b[39mtext\n\u001b[1;32m     10\u001b[0m title_formatted \u001b[38;5;241m=\u001b[39m title\u001b[38;5;241m.\u001b[39mreplace(\u001b[38;5;124m'\u001b[39m\u001b[38;5;130;01m\\'\u001b[39;00m\u001b[38;5;124m'\u001b[39m, \u001b[38;5;124m'\u001b[39m\u001b[38;5;130;01m\\'\u001b[39;00m\u001b[38;5;130;01m\\'\u001b[39;00m\u001b[38;5;124m'\u001b[39m)\n",
      "File \u001b[0;32m~/anaconda3/envs/search-engine/lib/python3.12/site-packages/lxml/html/__init__.py:850\u001b[0m, in \u001b[0;36mfromstring\u001b[0;34m(html, base_url, parser, **kw)\u001b[0m\n\u001b[1;32m    848\u001b[0m \u001b[38;5;28;01melse\u001b[39;00m:\n\u001b[1;32m    849\u001b[0m     is_full_html \u001b[38;5;241m=\u001b[39m _looks_like_full_html_unicode(html)\n\u001b[0;32m--> 850\u001b[0m doc \u001b[38;5;241m=\u001b[39m \u001b[43mdocument_fromstring\u001b[49m\u001b[43m(\u001b[49m\u001b[43mhtml\u001b[49m\u001b[43m,\u001b[49m\u001b[43m \u001b[49m\u001b[43mparser\u001b[49m\u001b[38;5;241;43m=\u001b[39;49m\u001b[43mparser\u001b[49m\u001b[43m,\u001b[49m\u001b[43m \u001b[49m\u001b[43mbase_url\u001b[49m\u001b[38;5;241;43m=\u001b[39;49m\u001b[43mbase_url\u001b[49m\u001b[43m,\u001b[49m\u001b[43m \u001b[49m\u001b[38;5;241;43m*\u001b[39;49m\u001b[38;5;241;43m*\u001b[39;49m\u001b[43mkw\u001b[49m\u001b[43m)\u001b[49m\n\u001b[1;32m    851\u001b[0m \u001b[38;5;28;01mif\u001b[39;00m is_full_html:\n\u001b[1;32m    852\u001b[0m     \u001b[38;5;28;01mreturn\u001b[39;00m doc\n",
      "File \u001b[0;32m~/anaconda3/envs/search-engine/lib/python3.12/site-packages/lxml/html/__init__.py:736\u001b[0m, in \u001b[0;36mdocument_fromstring\u001b[0;34m(html, parser, ensure_head_body, **kw)\u001b[0m\n\u001b[1;32m    734\u001b[0m \u001b[38;5;28;01mif\u001b[39;00m parser \u001b[38;5;129;01mis\u001b[39;00m \u001b[38;5;28;01mNone\u001b[39;00m:\n\u001b[1;32m    735\u001b[0m     parser \u001b[38;5;241m=\u001b[39m html_parser\n\u001b[0;32m--> 736\u001b[0m value \u001b[38;5;241m=\u001b[39m \u001b[43metree\u001b[49m\u001b[38;5;241;43m.\u001b[39;49m\u001b[43mfromstring\u001b[49m\u001b[43m(\u001b[49m\u001b[43mhtml\u001b[49m\u001b[43m,\u001b[49m\u001b[43m \u001b[49m\u001b[43mparser\u001b[49m\u001b[43m,\u001b[49m\u001b[43m \u001b[49m\u001b[38;5;241;43m*\u001b[39;49m\u001b[38;5;241;43m*\u001b[39;49m\u001b[43mkw\u001b[49m\u001b[43m)\u001b[49m\n\u001b[1;32m    737\u001b[0m \u001b[38;5;28;01mif\u001b[39;00m value \u001b[38;5;129;01mis\u001b[39;00m \u001b[38;5;28;01mNone\u001b[39;00m:\n\u001b[1;32m    738\u001b[0m     \u001b[38;5;28;01mraise\u001b[39;00m etree\u001b[38;5;241m.\u001b[39mParserError(\n\u001b[1;32m    739\u001b[0m         \u001b[38;5;124m\"\u001b[39m\u001b[38;5;124mDocument is empty\u001b[39m\u001b[38;5;124m\"\u001b[39m)\n",
      "File \u001b[0;32msrc/lxml/etree.pyx:3306\u001b[0m, in \u001b[0;36mlxml.etree.fromstring\u001b[0;34m()\u001b[0m\n",
      "File \u001b[0;32msrc/lxml/parser.pxi:1990\u001b[0m, in \u001b[0;36mlxml.etree._parseMemoryDocument\u001b[0;34m()\u001b[0m\n",
      "\u001b[0;31mValueError\u001b[0m: Unicode strings with encoding declaration are not supported. Please use bytes input or XML fragments without declaration."
     ]
    }
   ],
   "source": [
    "with open('domains.csv', mode ='r') as file:\n",
    "\tcsvFile = csv.reader(file)\n",
    "\t\n",
    "\tnext(csvFile)\n",
    "\tfor i in range(0,200): index_page(i, next(csvFile)[1])\n"
   ]
  },
  {
   "cell_type": "code",
   "execution_count": null,
   "metadata": {},
   "outputs": [],
   "source": []
  }
 ],
 "metadata": {
  "kernelspec": {
   "display_name": "search-engine",
   "language": "python",
   "name": "python3"
  },
  "language_info": {
   "codemirror_mode": {
    "name": "ipython",
    "version": 3
   },
   "file_extension": ".py",
   "mimetype": "text/x-python",
   "name": "python",
   "nbconvert_exporter": "python",
   "pygments_lexer": "ipython3",
   "version": "3.12.5"
  }
 },
 "nbformat": 4,
 "nbformat_minor": 2
}
